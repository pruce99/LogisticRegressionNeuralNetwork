{
  "nbformat": 4,
  "nbformat_minor": 0,
  "metadata": {
    "colab": {
      "name": "LogisticRegression.ipynb",
      "provenance": [],
      "collapsed_sections": [],
      "toc_visible": true,
      "authorship_tag": "ABX9TyNLB6BDMv+iy4dg21NCnIjO",
      "include_colab_link": true
    },
    "kernelspec": {
      "name": "python3",
      "display_name": "Python 3"
    },
    "language_info": {
      "name": "python"
    }
  },
  "cells": [
    {
      "cell_type": "markdown",
      "metadata": {
        "id": "view-in-github",
        "colab_type": "text"
      },
      "source": [
        "<a href=\"https://colab.research.google.com/github/pruce99/LogisticRegressionNeuralNetwork/blob/main/LogisticRegression.ipynb\" target=\"_parent\"><img src=\"https://colab.research.google.com/assets/colab-badge.svg\" alt=\"Open In Colab\"/></a>"
      ]
    },
    {
      "cell_type": "markdown",
      "metadata": {
        "id": "0xWFob3k884l"
      },
      "source": [
        "# **Logistic Regression**\n",
        "UB person number: 50425014\n",
        "\n",
        "UB IT Name: paravamu"
      ]
    },
    {
      "cell_type": "code",
      "metadata": {
        "colab": {
          "base_uri": "https://localhost:8080/"
        },
        "id": "ppv3WHeNeCyz",
        "outputId": "2523fb82-0ef2-40af-f49a-e862563d2be8"
      },
      "source": [
        "#Setting Directory\n",
        "from google.colab import drive\n",
        "drive.mount('/content/drive/')\n",
        "\n",
        "#remove these lines and just upload the dataset\n"
      ],
      "execution_count": null,
      "outputs": [
        {
          "output_type": "stream",
          "name": "stdout",
          "text": [
            "Drive already mounted at /content/drive/; to attempt to forcibly remount, call drive.mount(\"/content/drive/\", force_remount=True).\n"
          ]
        }
      ]
    },
    {
      "cell_type": "code",
      "metadata": {
        "id": "6fPBez2Ge9AC"
      },
      "source": [
        "#Importing libraries\n",
        "import numpy as np\n",
        "import pandas as pd\n",
        "import matplotlib.pyplot as plt"
      ],
      "execution_count": null,
      "outputs": []
    },
    {
      "cell_type": "code",
      "metadata": {
        "colab": {
          "base_uri": "https://localhost:8080/"
        },
        "id": "sRGnN6ky9ooH",
        "outputId": "13a41984-2b6e-4c49-b342-1e2ffe29a672"
      },
      "source": [
        "#Attach your drive to access the dataset\n",
        "%cd drive/MyDrive/Colab\\ Notebooks"
      ],
      "execution_count": null,
      "outputs": [
        {
          "output_type": "stream",
          "name": "stdout",
          "text": [
            "[Errno 2] No such file or directory: 'drive/MyDrive/Colab Notebooks'\n",
            "/content/drive/MyDrive/Colab Notebooks\n"
          ]
        }
      ]
    },
    {
      "cell_type": "code",
      "metadata": {
        "id": "Mg4jdDFpfsxa",
        "colab": {
          "base_uri": "https://localhost:8080/",
          "height": 204
        },
        "outputId": "d7762c02-2f7b-4613-be79-eede567c4a7f"
      },
      "source": [
        "#Getting dataset and storing it in the form of pandas dataframe\n",
        "#Mention the path with the file name to test the code out \n",
        "\n",
        "dataset = pd.read_csv(\"diabetes.csv\",engine='python');\n",
        "dataset.head()\n",
        "\n",
        "\n"
      ],
      "execution_count": null,
      "outputs": [
        {
          "output_type": "execute_result",
          "data": {
            "text/html": [
              "<div>\n",
              "<style scoped>\n",
              "    .dataframe tbody tr th:only-of-type {\n",
              "        vertical-align: middle;\n",
              "    }\n",
              "\n",
              "    .dataframe tbody tr th {\n",
              "        vertical-align: top;\n",
              "    }\n",
              "\n",
              "    .dataframe thead th {\n",
              "        text-align: right;\n",
              "    }\n",
              "</style>\n",
              "<table border=\"1\" class=\"dataframe\">\n",
              "  <thead>\n",
              "    <tr style=\"text-align: right;\">\n",
              "      <th></th>\n",
              "      <th>Pregnancies</th>\n",
              "      <th>Glucose</th>\n",
              "      <th>BloodPressure</th>\n",
              "      <th>SkinThickness</th>\n",
              "      <th>Insulin</th>\n",
              "      <th>BMI</th>\n",
              "      <th>DiabetesPedigreeFunction</th>\n",
              "      <th>Age</th>\n",
              "      <th>Outcome</th>\n",
              "    </tr>\n",
              "  </thead>\n",
              "  <tbody>\n",
              "    <tr>\n",
              "      <th>0</th>\n",
              "      <td>6</td>\n",
              "      <td>148</td>\n",
              "      <td>72</td>\n",
              "      <td>35</td>\n",
              "      <td>0</td>\n",
              "      <td>33.6</td>\n",
              "      <td>0.627</td>\n",
              "      <td>50</td>\n",
              "      <td>1</td>\n",
              "    </tr>\n",
              "    <tr>\n",
              "      <th>1</th>\n",
              "      <td>1</td>\n",
              "      <td>85</td>\n",
              "      <td>66</td>\n",
              "      <td>29</td>\n",
              "      <td>0</td>\n",
              "      <td>26.6</td>\n",
              "      <td>0.351</td>\n",
              "      <td>31</td>\n",
              "      <td>0</td>\n",
              "    </tr>\n",
              "    <tr>\n",
              "      <th>2</th>\n",
              "      <td>8</td>\n",
              "      <td>183</td>\n",
              "      <td>64</td>\n",
              "      <td>0</td>\n",
              "      <td>0</td>\n",
              "      <td>23.3</td>\n",
              "      <td>0.672</td>\n",
              "      <td>32</td>\n",
              "      <td>1</td>\n",
              "    </tr>\n",
              "    <tr>\n",
              "      <th>3</th>\n",
              "      <td>1</td>\n",
              "      <td>89</td>\n",
              "      <td>66</td>\n",
              "      <td>23</td>\n",
              "      <td>94</td>\n",
              "      <td>28.1</td>\n",
              "      <td>0.167</td>\n",
              "      <td>21</td>\n",
              "      <td>0</td>\n",
              "    </tr>\n",
              "    <tr>\n",
              "      <th>4</th>\n",
              "      <td>0</td>\n",
              "      <td>137</td>\n",
              "      <td>40</td>\n",
              "      <td>35</td>\n",
              "      <td>168</td>\n",
              "      <td>43.1</td>\n",
              "      <td>2.288</td>\n",
              "      <td>33</td>\n",
              "      <td>1</td>\n",
              "    </tr>\n",
              "  </tbody>\n",
              "</table>\n",
              "</div>"
            ],
            "text/plain": [
              "   Pregnancies  Glucose  BloodPressure  ...  DiabetesPedigreeFunction  Age  Outcome\n",
              "0            6      148             72  ...                     0.627   50        1\n",
              "1            1       85             66  ...                     0.351   31        0\n",
              "2            8      183             64  ...                     0.672   32        1\n",
              "3            1       89             66  ...                     0.167   21        0\n",
              "4            0      137             40  ...                     2.288   33        1\n",
              "\n",
              "[5 rows x 9 columns]"
            ]
          },
          "metadata": {},
          "execution_count": 1295
        }
      ]
    },
    {
      "cell_type": "code",
      "metadata": {
        "id": "tkqlJUn7tqmw",
        "colab": {
          "base_uri": "https://localhost:8080/",
          "height": 297
        },
        "outputId": "3b0695f8-bd4a-4cc9-dca2-3c3fe7e7c61a"
      },
      "source": [
        "#To view count, mean, standard Devitation... of the dataset\n",
        "dataset.describe()"
      ],
      "execution_count": null,
      "outputs": [
        {
          "output_type": "execute_result",
          "data": {
            "text/html": [
              "<div>\n",
              "<style scoped>\n",
              "    .dataframe tbody tr th:only-of-type {\n",
              "        vertical-align: middle;\n",
              "    }\n",
              "\n",
              "    .dataframe tbody tr th {\n",
              "        vertical-align: top;\n",
              "    }\n",
              "\n",
              "    .dataframe thead th {\n",
              "        text-align: right;\n",
              "    }\n",
              "</style>\n",
              "<table border=\"1\" class=\"dataframe\">\n",
              "  <thead>\n",
              "    <tr style=\"text-align: right;\">\n",
              "      <th></th>\n",
              "      <th>Pregnancies</th>\n",
              "      <th>Glucose</th>\n",
              "      <th>BloodPressure</th>\n",
              "      <th>SkinThickness</th>\n",
              "      <th>Insulin</th>\n",
              "      <th>BMI</th>\n",
              "      <th>DiabetesPedigreeFunction</th>\n",
              "      <th>Age</th>\n",
              "      <th>Outcome</th>\n",
              "    </tr>\n",
              "  </thead>\n",
              "  <tbody>\n",
              "    <tr>\n",
              "      <th>count</th>\n",
              "      <td>768.000000</td>\n",
              "      <td>768.000000</td>\n",
              "      <td>768.000000</td>\n",
              "      <td>768.000000</td>\n",
              "      <td>768.000000</td>\n",
              "      <td>768.000000</td>\n",
              "      <td>768.000000</td>\n",
              "      <td>768.000000</td>\n",
              "      <td>768.000000</td>\n",
              "    </tr>\n",
              "    <tr>\n",
              "      <th>mean</th>\n",
              "      <td>3.845052</td>\n",
              "      <td>120.894531</td>\n",
              "      <td>69.105469</td>\n",
              "      <td>20.536458</td>\n",
              "      <td>79.799479</td>\n",
              "      <td>31.992578</td>\n",
              "      <td>0.471876</td>\n",
              "      <td>33.240885</td>\n",
              "      <td>0.348958</td>\n",
              "    </tr>\n",
              "    <tr>\n",
              "      <th>std</th>\n",
              "      <td>3.369578</td>\n",
              "      <td>31.972618</td>\n",
              "      <td>19.355807</td>\n",
              "      <td>15.952218</td>\n",
              "      <td>115.244002</td>\n",
              "      <td>7.884160</td>\n",
              "      <td>0.331329</td>\n",
              "      <td>11.760232</td>\n",
              "      <td>0.476951</td>\n",
              "    </tr>\n",
              "    <tr>\n",
              "      <th>min</th>\n",
              "      <td>0.000000</td>\n",
              "      <td>0.000000</td>\n",
              "      <td>0.000000</td>\n",
              "      <td>0.000000</td>\n",
              "      <td>0.000000</td>\n",
              "      <td>0.000000</td>\n",
              "      <td>0.078000</td>\n",
              "      <td>21.000000</td>\n",
              "      <td>0.000000</td>\n",
              "    </tr>\n",
              "    <tr>\n",
              "      <th>25%</th>\n",
              "      <td>1.000000</td>\n",
              "      <td>99.000000</td>\n",
              "      <td>62.000000</td>\n",
              "      <td>0.000000</td>\n",
              "      <td>0.000000</td>\n",
              "      <td>27.300000</td>\n",
              "      <td>0.243750</td>\n",
              "      <td>24.000000</td>\n",
              "      <td>0.000000</td>\n",
              "    </tr>\n",
              "    <tr>\n",
              "      <th>50%</th>\n",
              "      <td>3.000000</td>\n",
              "      <td>117.000000</td>\n",
              "      <td>72.000000</td>\n",
              "      <td>23.000000</td>\n",
              "      <td>30.500000</td>\n",
              "      <td>32.000000</td>\n",
              "      <td>0.372500</td>\n",
              "      <td>29.000000</td>\n",
              "      <td>0.000000</td>\n",
              "    </tr>\n",
              "    <tr>\n",
              "      <th>75%</th>\n",
              "      <td>6.000000</td>\n",
              "      <td>140.250000</td>\n",
              "      <td>80.000000</td>\n",
              "      <td>32.000000</td>\n",
              "      <td>127.250000</td>\n",
              "      <td>36.600000</td>\n",
              "      <td>0.626250</td>\n",
              "      <td>41.000000</td>\n",
              "      <td>1.000000</td>\n",
              "    </tr>\n",
              "    <tr>\n",
              "      <th>max</th>\n",
              "      <td>17.000000</td>\n",
              "      <td>199.000000</td>\n",
              "      <td>122.000000</td>\n",
              "      <td>99.000000</td>\n",
              "      <td>846.000000</td>\n",
              "      <td>67.100000</td>\n",
              "      <td>2.420000</td>\n",
              "      <td>81.000000</td>\n",
              "      <td>1.000000</td>\n",
              "    </tr>\n",
              "  </tbody>\n",
              "</table>\n",
              "</div>"
            ],
            "text/plain": [
              "       Pregnancies     Glucose  ...         Age     Outcome\n",
              "count   768.000000  768.000000  ...  768.000000  768.000000\n",
              "mean      3.845052  120.894531  ...   33.240885    0.348958\n",
              "std       3.369578   31.972618  ...   11.760232    0.476951\n",
              "min       0.000000    0.000000  ...   21.000000    0.000000\n",
              "25%       1.000000   99.000000  ...   24.000000    0.000000\n",
              "50%       3.000000  117.000000  ...   29.000000    0.000000\n",
              "75%       6.000000  140.250000  ...   41.000000    1.000000\n",
              "max      17.000000  199.000000  ...   81.000000    1.000000\n",
              "\n",
              "[8 rows x 9 columns]"
            ]
          },
          "metadata": {},
          "execution_count": 1296
        }
      ]
    },
    {
      "cell_type": "code",
      "metadata": {
        "id": "lnt81MssK-cy"
      },
      "source": [
        "#Instead of randomly picking the train, validate and test, we use\n",
        "#random seed to pick the same train, test and validate \n",
        "np.random.seed(72)\n"
      ],
      "execution_count": null,
      "outputs": []
    },
    {
      "cell_type": "code",
      "metadata": {
        "id": "8i2oaWZNl0Ek"
      },
      "source": [
        "#Splitting the dataset to train - 60%, validate - 20%, test - 20%\n",
        "train, validate, test = np.split(dataset.sample(frac=1),[int(.6*len(dataset)), int(.8*len(dataset))])"
      ],
      "execution_count": null,
      "outputs": []
    },
    {
      "cell_type": "code",
      "metadata": {
        "id": "fU8bu0kmWtEP"
      },
      "source": [
        "#Storing the first 8 columns to train_X and saving last column to train_Y\n",
        "train_X = train.iloc[:, 0:8]\n",
        "train_y = train.iloc[:, -1]"
      ],
      "execution_count": null,
      "outputs": []
    },
    {
      "cell_type": "code",
      "metadata": {
        "id": "T_I2vD5SnyHs"
      },
      "source": [
        "#Storing the first 8 columns to test_X and saving last column to test_Y\n",
        "test_X = test.iloc[:, 0:8]\n",
        "test_Y = test.iloc[:, -1]"
      ],
      "execution_count": null,
      "outputs": []
    },
    {
      "cell_type": "code",
      "metadata": {
        "id": "1sAYR5a8p38m"
      },
      "source": [
        "#Storing the first 8 columns to validation_X and \n",
        "#Saving last column to validation_Y\n",
        "validation_X = validate.iloc[:, 0:8]\n",
        "validation_y = validate.iloc[:, -1]"
      ],
      "execution_count": null,
      "outputs": []
    },
    {
      "cell_type": "code",
      "metadata": {
        "id": "BQFzcfRUwmXf",
        "colab": {
          "base_uri": "https://localhost:8080/"
        },
        "outputId": "7e4bbf45-2711-4296-8fbf-8b5312b321b1"
      },
      "source": [
        "#Visualizing the shape of all the train,test and validation\n",
        "print(train_X.shape)\n",
        "print(train_y.shape)\n",
        "print(test_X.shape)\n",
        "print(test_Y.shape)\n",
        "print(validation_X.shape)\n",
        "print(validation_y.shape)\n"
      ],
      "execution_count": null,
      "outputs": [
        {
          "output_type": "stream",
          "name": "stdout",
          "text": [
            "(460, 8)\n",
            "(460,)\n",
            "(154, 8)\n",
            "(154,)\n",
            "(154, 8)\n",
            "(154,)\n"
          ]
        }
      ]
    },
    {
      "cell_type": "code",
      "metadata": {
        "id": "CIFRZptETonf"
      },
      "source": [
        "#Scaling the values from 0 to 1, normalazing the train_X, test_X and validation_x\n",
        "x_min = train_X.min(axis=0)\n",
        "x_max = train_X.max(axis=0)\n",
        "\n",
        "test_X_min = test_X.min(axis=0)\n",
        "test_X_max = test_X.max(axis=0)\n",
        "\n",
        "validation_X_min = validation_X.min(axis=0)\n",
        "validation_X_max = validation_X.max(axis=0)\n",
        "\n",
        "# Centralizing data to range within minimum and maximum\n",
        "# train_X = (train_X - x_min) / (x_max - x_min)\n",
        "# test_X = (test_X - test_X_min) / (test_X_max - test_X_min)\n",
        "# validation_X = (validation_X - validation_X_min) / (validation_X_max - validation_X_min)\n",
        "\n",
        "# normalizing data to unit std and zero mean - follows normal distribution (z - score normalisation)\n",
        "train_X = (train_X - train_X.mean()) / train_X.std()\n",
        "test_X = (test_X - test_X.mean()) / test_X.std()\n",
        "validation_X = (validation_X - validation_X.mean()) / validation_X.std()"
      ],
      "execution_count": null,
      "outputs": []
    },
    {
      "cell_type": "code",
      "metadata": {
        "id": "ynLTDZD4XMTQ"
      },
      "source": [
        "#Sigmoid function is the hypotheses represenation\n",
        "def sigmoid(z):\n",
        "    return 1.0/(1 + np.exp(-z))"
      ],
      "execution_count": null,
      "outputs": []
    },
    {
      "cell_type": "code",
      "metadata": {
        "id": "jzCuzeUyXQbH"
      },
      "source": [
        "#Logistic Regression cost function \n",
        "def lossFunction(y_true, y_pred,eps=1e-15):\n",
        "    \"\"\"\n",
        "    Cost function is Binary Cross-Entropy (BCE)\n",
        "    \"\"\"\n",
        "    # bce (added eps to avoid nan during log calculation)\n",
        "    loss = (y_true * np.log(eps + y_pred)) + ((1 - y_true) * np.log(1-(y_pred + eps)))\n",
        "    return -loss.mean(axis=0)"
      ],
      "execution_count": null,
      "outputs": []
    },
    {
      "cell_type": "code",
      "metadata": {
        "id": "e_b9dSMBXTCP"
      },
      "source": [
        "def gradients(X, y, y_Pred):\n",
        "    \n",
        "    #To get the row size, aka training examples\n",
        "    m = X.shape[0]\n",
        "    \n",
        "    # Gradient of loss with respect to weights.\n",
        "    dw = np.dot(X.T, (y_Pred - y))/m\n",
        "\n",
        "    # (1/m) * (X transpose) dot product (sigmoid output - actual y value)\n",
        "    \n",
        "    # Gradient of loss w.r.t bias.\n",
        "    db = np.sum((y_Pred - y))/m\n",
        "    # (1/m) * (sum of column sigmoid output - y) \n",
        "    \n",
        "    return dw, db\n"
      ],
      "execution_count": null,
      "outputs": []
    },
    {
      "cell_type": "code",
      "metadata": {
        "id": "OfDD_fXNAqsL"
      },
      "source": [
        "def accuracy(y, y_Pred):\n",
        "  \"\"\"\n",
        "  Calculates accuracy between target values and predicted values\n",
        "  \"\"\"\n",
        "  threshold=0.5\n",
        "  return np.sum(y == (y_Pred >= threshold)) / len(y) *100"
      ],
      "execution_count": null,
      "outputs": []
    },
    {
      "cell_type": "code",
      "metadata": {
        "id": "9SkTC8sdXgt8"
      },
      "source": [
        "def train(x, y, epochs, lr):\n",
        "    \n",
        "\n",
        "    m, n = x.shape\n",
        "    #getting row size and column size\n",
        "\n",
        "    # Initializing weights and bias to randomized value.\n",
        "    w = np.random.randn(n,1)\n",
        "    b = 0\n",
        "    \n",
        "    # Reshaping y.\n",
        "    y = y.values.reshape(m,1)\n",
        "    \n",
        "    # Empty list to store losses and accuracy and plotting it \n",
        "    losses = []\n",
        "    accuracyValues = []\n",
        "    \n",
        "    for epoch in range(epochs):\n",
        "      y_Pred = sigmoid(np.dot(x, w) + b)\n",
        "      dw, db = gradients(x, y, y_Pred)\n",
        "      w -= lr*dw\n",
        "      b -= lr*db\n",
        "      l = lossFunction(y, sigmoid(np.dot(x, w) + b))\n",
        "      a = accuracy(y,np.round(y_Pred))\n",
        "      losses.append(l)\n",
        "      accuracyValues.append(a)\n",
        "\n",
        "\n",
        "    plt.plot(losses)\n",
        "    plt.show()\n",
        "    print(\"Losses\")\n",
        "    plt.plot(accuracyValues)\n",
        "    plt.show()\n",
        "    print(\"Accuracy\")\n",
        "    return w, b, losses"
      ],
      "execution_count": null,
      "outputs": []
    },
    {
      "cell_type": "code",
      "metadata": {
        "id": "BNbjcXiNXkFb"
      },
      "source": [
        "def makePrediction(x, w, b):\n",
        "    \n",
        "    # Calculating predictions/y_pred.\n",
        "    preds = sigmoid(np.dot(x, w) + b)\n",
        "    \n",
        "    # Empty List to store predictions.\n",
        "    pred_class = []\n",
        "    # if y_pred >= 0.5 --> round up to 1\n",
        "    # if y_pred < 0.5 --> round up to 1\n",
        "    pred_class = [1 if i > 0.5 else 0 for i in preds]\n",
        "    \n",
        "    return np.array(pred_class)"
      ],
      "execution_count": null,
      "outputs": []
    },
    {
      "cell_type": "code",
      "metadata": {
        "id": "zCYVmnlSXmtV",
        "colab": {
          "base_uri": "https://localhost:8080/",
          "height": 547
        },
        "outputId": "c2a622ad-c3c0-424c-e66b-5264ac337b79"
      },
      "source": [
        "# Training \n",
        "w, b, l = train(train_X, train_y, epochs=10000, lr=0.1)\n"
      ],
      "execution_count": null,
      "outputs": [
        {
          "output_type": "display_data",
          "data": {
            "image/png": "[encoded data removed]",
            "text/plain": [
              "<Figure size 432x288 with 1 Axes>"
            ]
          },
          "metadata": {
            "needs_background": "light"
          }
        },
        {
          "output_type": "stream",
          "name": "stdout",
          "text": [
            "Losses\n"
          ]
        },
        {
          "output_type": "display_data",
          "data": {
            "image/png": "[encoded data removed]",
            "text/plain": [
              "<Figure size 432x288 with 1 Axes>"
            ]
          },
          "metadata": {
            "needs_background": "light"
          }
        },
        {
          "output_type": "stream",
          "name": "stdout",
          "text": [
            "Accuracy\n"
          ]
        }
      ]
    },
    {
      "cell_type": "code",
      "metadata": {
        "id": "pMMIsDRhqkoy",
        "colab": {
          "base_uri": "https://localhost:8080/"
        },
        "outputId": "62dabd9a-078c-4551-8a7f-e7cab98ebdcc"
      },
      "source": [
        "print(f\"The accuracy of the train set is {accuracy(train_y, y_Pred=makePrediction(train_X, w, b)):.2f}%\")"
      ],
      "execution_count": null,
      "outputs": [
        {
          "output_type": "stream",
          "name": "stdout",
          "text": [
            "The accuracy of the train set is 79.35%\n"
          ]
        }
      ]
    },
    {
      "cell_type": "code",
      "metadata": {
        "id": "ATieAtFjW2hn",
        "colab": {
          "base_uri": "https://localhost:8080/"
        },
        "outputId": "019dbb01-4e3e-4e4d-ec07-dbf7cd1a13eb"
      },
      "source": [
        "print(f\"The accuracy of the test set is {accuracy(test_Y, y_Pred=makePrediction(test_X, w, b)):.2f}%\")"
      ],
      "execution_count": null,
      "outputs": [
        {
          "output_type": "stream",
          "name": "stdout",
          "text": [
            "The accuracy of the test set is 77.92%\n"
          ]
        }
      ]
    },
    {
      "cell_type": "code",
      "metadata": {
        "id": "9xZGLJG5W2mU",
        "colab": {
          "base_uri": "https://localhost:8080/"
        },
        "outputId": "ffc742c4-81a0-4e91-ebcf-a057ad1c1608"
      },
      "source": [
        "print(f\"The accuracy of the validation set is {accuracy(validation_y, y_Pred=makePrediction(validation_X, w, b)):.2f}%\")"
      ],
      "execution_count": null,
      "outputs": [
        {
          "output_type": "stream",
          "name": "stdout",
          "text": [
            "The accuracy of the validation set is 75.32%\n"
          ]
        }
      ]
    },
    {
      "cell_type": "markdown",
      "metadata": {
        "id": "xzaYCm3mD0Y5"
      },
      "source": [
        "#Using Neural Network\n"
      ]
    },
    {
      "cell_type": "code",
      "metadata": {
        "id": "GkCv6befiTPT"
      },
      "source": [
        "import tensorflow as tf\n",
        "from tensorflow.keras.layers import Input, Dense, Dropout, BatchNormalization\n",
        "from tensorflow.keras import Sequential, Model"
      ],
      "execution_count": null,
      "outputs": []
    },
    {
      "cell_type": "code",
      "metadata": {
        "id": "tvF5glo9dPyA"
      },
      "source": [
        "#Using 1 input layer and 1 output layer and two hidden layers\n",
        "def get_tf_nn(features):\n",
        "\n",
        "  #Input layer is nothing but the features itself \n",
        "  i = Input((features, ))\n",
        "  #The relu activation finds Max(0,x)\n",
        "  #Second layer, Hidden Layer with relu activation\n",
        "  x = Dense(256, activation='relu')(i)\n",
        "  #Third Layer, Hidden layer with relu activation \n",
        "  x = Dense(512, activation='relu')(x)\n",
        "  #Output layer with sigmoid activation\n",
        "  o = Dense(1, activation='sigmoid')(x)\n",
        "\n",
        "  #Passing the input layer and output layer to Model \n",
        "  model = Model(inputs=i, outputs=o)\n",
        "  #Compiling our model with binary crossentropy \n",
        "  #Using Adam optimizer, which is better then SGD optimizer and getting the accuracy metrics\n",
        "  model.compile(loss='binary_crossentropy', optimizer=tf.keras.optimizers.Adam(learning_rate=1e-4), metrics=['accuracy'])\n",
        "\n",
        "  return model"
      ],
      "execution_count": null,
      "outputs": []
    },
    {
      "cell_type": "code",
      "metadata": {
        "id": "865vg3gxdPyB"
      },
      "source": [
        "nn = get_tf_nn(train_X.shape[1])"
      ],
      "execution_count": null,
      "outputs": []
    },
    {
      "cell_type": "code",
      "metadata": {
        "colab": {
          "base_uri": "https://localhost:8080/"
        },
        "id": "bKBPwYUQdPyB",
        "outputId": "3f35a8dc-f30a-4ebe-d52f-4ecedd1c873e"
      },
      "source": [
        "print(nn.summary())"
      ],
      "execution_count": null,
      "outputs": [
        {
          "output_type": "stream",
          "name": "stdout",
          "text": [
            "Model: \"model_123\"\n",
            "_________________________________________________________________\n",
            "Layer (type)                 Output Shape              Param #   \n",
            "=================================================================\n",
            "input_124 (InputLayer)       [(None, 8)]               0         \n",
            "_________________________________________________________________\n",
            "dense_369 (Dense)            (None, 256)               2304      \n",
            "_________________________________________________________________\n",
            "dense_370 (Dense)            (None, 512)               131584    \n",
            "_________________________________________________________________\n",
            "dense_371 (Dense)            (None, 1)                 513       \n",
            "=================================================================\n",
            "Total params: 134,401\n",
            "Trainable params: 134,401\n",
            "Non-trainable params: 0\n",
            "_________________________________________________________________\n",
            "None\n"
          ]
        }
      ]
    },
    {
      "cell_type": "code",
      "metadata": {
        "colab": {
          "base_uri": "https://localhost:8080/"
        },
        "id": "_4a6YNOLdPyB",
        "outputId": "ca93702c-6373-492f-bb92-e21110109c33"
      },
      "source": [
        "h = nn.fit(train_X, train_y, validation_data=(validation_X, validation_y), epochs=15, batch_size=16)"
      ],
      "execution_count": null,
      "outputs": [
        {
          "output_type": "stream",
          "name": "stdout",
          "text": [
            "Epoch 1/15\n",
            "29/29 [==============================] - 1s 8ms/step - loss: 0.6497 - accuracy: 0.6652 - val_loss: 0.6080 - val_accuracy: 0.7403\n",
            "Epoch 2/15\n",
            "29/29 [==============================] - 0s 4ms/step - loss: 0.5708 - accuracy: 0.7761 - val_loss: 0.5535 - val_accuracy: 0.7468\n",
            "Epoch 3/15\n",
            "29/29 [==============================] - 0s 4ms/step - loss: 0.5246 - accuracy: 0.7761 - val_loss: 0.5239 - val_accuracy: 0.7532\n",
            "Epoch 4/15\n",
            "29/29 [==============================] - 0s 4ms/step - loss: 0.4961 - accuracy: 0.7848 - val_loss: 0.5053 - val_accuracy: 0.7532\n",
            "Epoch 5/15\n",
            "29/29 [==============================] - 0s 4ms/step - loss: 0.4769 - accuracy: 0.7804 - val_loss: 0.4963 - val_accuracy: 0.7532\n",
            "Epoch 6/15\n",
            "29/29 [==============================] - 0s 4ms/step - loss: 0.4644 - accuracy: 0.7804 - val_loss: 0.4916 - val_accuracy: 0.7662\n",
            "Epoch 7/15\n",
            "29/29 [==============================] - 0s 4ms/step - loss: 0.4556 - accuracy: 0.7870 - val_loss: 0.4863 - val_accuracy: 0.7662\n",
            "Epoch 8/15\n",
            "29/29 [==============================] - 0s 4ms/step - loss: 0.4496 - accuracy: 0.7913 - val_loss: 0.4848 - val_accuracy: 0.7597\n",
            "Epoch 9/15\n",
            "29/29 [==============================] - 0s 4ms/step - loss: 0.4444 - accuracy: 0.7935 - val_loss: 0.4841 - val_accuracy: 0.7662\n",
            "Epoch 10/15\n",
            "29/29 [==============================] - 0s 4ms/step - loss: 0.4409 - accuracy: 0.7913 - val_loss: 0.4871 - val_accuracy: 0.7662\n",
            "Epoch 11/15\n",
            "29/29 [==============================] - 0s 4ms/step - loss: 0.4357 - accuracy: 0.7978 - val_loss: 0.4834 - val_accuracy: 0.7662\n",
            "Epoch 12/15\n",
            "29/29 [==============================] - 0s 4ms/step - loss: 0.4331 - accuracy: 0.7978 - val_loss: 0.4867 - val_accuracy: 0.7662\n",
            "Epoch 13/15\n",
            "29/29 [==============================] - 0s 4ms/step - loss: 0.4297 - accuracy: 0.8087 - val_loss: 0.4842 - val_accuracy: 0.7597\n",
            "Epoch 14/15\n",
            "29/29 [==============================] - 0s 4ms/step - loss: 0.4263 - accuracy: 0.8022 - val_loss: 0.4844 - val_accuracy: 0.7597\n",
            "Epoch 15/15\n",
            "29/29 [==============================] - 0s 4ms/step - loss: 0.4229 - accuracy: 0.8065 - val_loss: 0.4859 - val_accuracy: 0.7597\n"
          ]
        }
      ]
    },
    {
      "cell_type": "code",
      "metadata": {
        "colab": {
          "base_uri": "https://localhost:8080/",
          "height": 281
        },
        "id": "IIUiPnJzdPyB",
        "outputId": "b1116226-e59b-48d4-c954-0dccb9891f7f"
      },
      "source": [
        "plt.plot(h.history['loss'], label='Loss')\n",
        "plt.plot(h.history['val_loss'], label='Validation Loss')\n",
        "plt.title('BCE Loss')\n",
        "plt.legend()\n",
        "plt.show()"
      ],
      "execution_count": null,
      "outputs": [
        {
          "output_type": "display_data",
          "data": {
            "image/png": "[encoded data removed]",
            "text/plain": [
              "<Figure size 432x288 with 1 Axes>"
            ]
          },
          "metadata": {
            "needs_background": "light"
          }
        }
      ]
    },
    {
      "cell_type": "code",
      "metadata": {
        "colab": {
          "base_uri": "https://localhost:8080/",
          "height": 281
        },
        "id": "nZTQFJ-WdPyC",
        "outputId": "2dfccf1b-e8a9-4e91-c888-c69921a27230"
      },
      "source": [
        "plt.plot(h.history['accuracy'], label='Accuracy')\n",
        "plt.plot(h.history['val_accuracy'], label='Validation Accuracy')\n",
        "plt.title('Accuracy')\n",
        "plt.legend()\n",
        "plt.show()"
      ],
      "execution_count": null,
      "outputs": [
        {
          "output_type": "display_data",
          "data": {
            "image/png": "[encoded data removed]",
            "text/plain": [
              "<Figure size 432x288 with 1 Axes>"
            ]
          },
          "metadata": {
            "needs_background": "light"
          }
        }
      ]
    },
    {
      "cell_type": "code",
      "metadata": {
        "colab": {
          "base_uri": "https://localhost:8080/"
        },
        "id": "xfTei-QMdPyC",
        "outputId": "5cd69e81-d83f-4fe5-d008-699dd5e0b1e0"
      },
      "source": [
        "train_pred = nn.evaluate(train_X, train_y)\n",
        "val_pred = nn.evaluate(validation_X, validation_y)\n",
        "test_pred = nn.evaluate(test_X, test_Y)"
      ],
      "execution_count": null,
      "outputs": [
        {
          "output_type": "stream",
          "name": "stdout",
          "text": [
            "15/15 [==============================] - 0s 2ms/step - loss: 0.4189 - accuracy: 0.8087\n",
            "5/5 [==============================] - 0s 2ms/step - loss: 0.4859 - accuracy: 0.7597\n",
            "5/5 [==============================] - 0s 3ms/step - loss: 0.4703 - accuracy: 0.7468\n"
          ]
        }
      ]
    },
    {
      "cell_type": "markdown",
      "metadata": {
        "id": "0KFOCCb5D9c4"
      },
      "source": [
        "#Using dropout regularizer"
      ]
    },
    {
      "cell_type": "code",
      "metadata": {
        "id": "gw_iT8OQia-x"
      },
      "source": [
        "def get_tf_nn(features):\n",
        "  i = Input((features, ))\n",
        "  x = Dense(256, activation='relu')(i)\n",
        "  #Dropout Sets input units to zero while training to reduce overfitting\n",
        "  x = Dropout(0.4)(x)\n",
        "  x = Dense(512, activation='relu')(x)\n",
        "  x = Dropout(0.4)(x)\n",
        "  o = Dense(1, activation='sigmoid')(x)\n",
        "\n",
        "  #Passing the input layer and output layer to Model \n",
        "  model = Model(inputs=i, outputs=o)\n",
        "\n",
        "  #Compiling our model with binary crossentropy \n",
        "  #Using Adam optimizer, which is better then SGD optimizer and getting the accuracy metrics\n",
        "  model.compile(loss='binary_crossentropy', optimizer=tf.keras.optimizers.Adam(learning_rate=1e-4), metrics=['accuracy'])\n",
        "\n",
        "  return model"
      ],
      "execution_count": null,
      "outputs": []
    },
    {
      "cell_type": "code",
      "metadata": {
        "id": "FD3e8KiGieVr"
      },
      "source": [
        "nn = get_tf_nn(train_X.shape[1])"
      ],
      "execution_count": null,
      "outputs": []
    },
    {
      "cell_type": "code",
      "metadata": {
        "colab": {
          "base_uri": "https://localhost:8080/"
        },
        "id": "pLXmo8IcigxH",
        "outputId": "90f47529-181e-4fe4-aca3-4425cb54d74f"
      },
      "source": [
        "print(nn.summary())"
      ],
      "execution_count": null,
      "outputs": [
        {
          "output_type": "stream",
          "name": "stdout",
          "text": [
            "Model: \"model_127\"\n",
            "_________________________________________________________________\n",
            "Layer (type)                 Output Shape              Param #   \n",
            "=================================================================\n",
            "input_128 (InputLayer)       [(None, 8)]               0         \n",
            "_________________________________________________________________\n",
            "dense_381 (Dense)            (None, 256)               2304      \n",
            "_________________________________________________________________\n",
            "dropout_78 (Dropout)         (None, 256)               0         \n",
            "_________________________________________________________________\n",
            "dense_382 (Dense)            (None, 512)               131584    \n",
            "_________________________________________________________________\n",
            "dropout_79 (Dropout)         (None, 512)               0         \n",
            "_________________________________________________________________\n",
            "dense_383 (Dense)            (None, 1)                 513       \n",
            "=================================================================\n",
            "Total params: 134,401\n",
            "Trainable params: 134,401\n",
            "Non-trainable params: 0\n",
            "_________________________________________________________________\n",
            "None\n"
          ]
        }
      ]
    },
    {
      "cell_type": "code",
      "metadata": {
        "colab": {
          "base_uri": "https://localhost:8080/"
        },
        "id": "NsH8YUbmijYn",
        "outputId": "05109757-7edd-4096-af02-15d921b36262"
      },
      "source": [
        "h = nn.fit(train_X, train_y, validation_data=(validation_X, validation_y), epochs=15, batch_size=16)"
      ],
      "execution_count": null,
      "outputs": [
        {
          "output_type": "stream",
          "name": "stdout",
          "text": [
            "Epoch 1/15\n",
            "29/29 [==============================] - 1s 10ms/step - loss: 0.6700 - accuracy: 0.6283 - val_loss: 0.6280 - val_accuracy: 0.7338\n",
            "Epoch 2/15\n",
            "29/29 [==============================] - 0s 4ms/step - loss: 0.6152 - accuracy: 0.7022 - val_loss: 0.5861 - val_accuracy: 0.7273\n",
            "Epoch 3/15\n",
            "29/29 [==============================] - 0s 4ms/step - loss: 0.5764 - accuracy: 0.7435 - val_loss: 0.5579 - val_accuracy: 0.7208\n",
            "Epoch 4/15\n",
            "29/29 [==============================] - 0s 4ms/step - loss: 0.5555 - accuracy: 0.7522 - val_loss: 0.5361 - val_accuracy: 0.7338\n",
            "Epoch 5/15\n",
            "29/29 [==============================] - 0s 4ms/step - loss: 0.5330 - accuracy: 0.7587 - val_loss: 0.5219 - val_accuracy: 0.7597\n",
            "Epoch 6/15\n",
            "29/29 [==============================] - 0s 4ms/step - loss: 0.5182 - accuracy: 0.7674 - val_loss: 0.5105 - val_accuracy: 0.7662\n",
            "Epoch 7/15\n",
            "29/29 [==============================] - 0s 4ms/step - loss: 0.5085 - accuracy: 0.7891 - val_loss: 0.5001 - val_accuracy: 0.7662\n",
            "Epoch 8/15\n",
            "29/29 [==============================] - 0s 4ms/step - loss: 0.4916 - accuracy: 0.7652 - val_loss: 0.4939 - val_accuracy: 0.7597\n",
            "Epoch 9/15\n",
            "29/29 [==============================] - 0s 4ms/step - loss: 0.4880 - accuracy: 0.7739 - val_loss: 0.4873 - val_accuracy: 0.7597\n",
            "Epoch 10/15\n",
            "29/29 [==============================] - 0s 4ms/step - loss: 0.4847 - accuracy: 0.7935 - val_loss: 0.4865 - val_accuracy: 0.7597\n",
            "Epoch 11/15\n",
            "29/29 [==============================] - 0s 4ms/step - loss: 0.4736 - accuracy: 0.7870 - val_loss: 0.4826 - val_accuracy: 0.7597\n",
            "Epoch 12/15\n",
            "29/29 [==============================] - 0s 4ms/step - loss: 0.4622 - accuracy: 0.7935 - val_loss: 0.4823 - val_accuracy: 0.7662\n",
            "Epoch 13/15\n",
            "29/29 [==============================] - 0s 4ms/step - loss: 0.4681 - accuracy: 0.7891 - val_loss: 0.4790 - val_accuracy: 0.7727\n",
            "Epoch 14/15\n",
            "29/29 [==============================] - 0s 4ms/step - loss: 0.4566 - accuracy: 0.7826 - val_loss: 0.4782 - val_accuracy: 0.7792\n",
            "Epoch 15/15\n",
            "29/29 [==============================] - 0s 4ms/step - loss: 0.4688 - accuracy: 0.7913 - val_loss: 0.4776 - val_accuracy: 0.7792\n"
          ]
        }
      ]
    },
    {
      "cell_type": "code",
      "metadata": {
        "colab": {
          "base_uri": "https://localhost:8080/",
          "height": 281
        },
        "id": "EQ5UtOh5imI2",
        "outputId": "c58304e3-dc2e-44cd-af89-d0e893959d49"
      },
      "source": [
        "plt.plot(h.history['loss'], label='Loss')\n",
        "plt.plot(h.history['val_loss'], label='Validation Loss')\n",
        "plt.title('BCE Loss')\n",
        "plt.legend()\n",
        "plt.show()"
      ],
      "execution_count": null,
      "outputs": [
        {
          "output_type": "display_data",
          "data": {
            "image/png": "[encoded data removed]",
            "text/plain": [
              "<Figure size 432x288 with 1 Axes>"
            ]
          },
          "metadata": {
            "needs_background": "light"
          }
        }
      ]
    },
    {
      "cell_type": "code",
      "metadata": {
        "colab": {
          "base_uri": "https://localhost:8080/",
          "height": 281
        },
        "id": "RL3kO57bioOp",
        "outputId": "d2068cf6-fe4f-41e4-9593-4c82201930f2"
      },
      "source": [
        "plt.plot(h.history['accuracy'], label='Accuracy')\n",
        "plt.plot(h.history['val_accuracy'], label='Validation Accuracy')\n",
        "plt.title('Accuracy')\n",
        "plt.legend()\n",
        "plt.show()"
      ],
      "execution_count": null,
      "outputs": [
        {
          "output_type": "display_data",
          "data": {
            "image/png": "[encoded data removed]",
            "text/plain": [
              "<Figure size 432x288 with 1 Axes>"
            ]
          },
          "metadata": {
            "needs_background": "light"
          }
        }
      ]
    },
    {
      "cell_type": "code",
      "metadata": {
        "colab": {
          "base_uri": "https://localhost:8080/"
        },
        "id": "8CU5uY-Niq5K",
        "outputId": "7107f665-0d27-488d-e04f-2e2d255af374"
      },
      "source": [
        "train_pred = nn.evaluate(train_X, train_y)\n",
        "test_pred = nn.evaluate(test_X, test_Y)\n",
        "val_pred = nn.evaluate(validation_X, validation_y)\n"
      ],
      "execution_count": null,
      "outputs": [
        {
          "output_type": "stream",
          "name": "stdout",
          "text": [
            "15/15 [==============================] - 0s 2ms/step - loss: 0.4449 - accuracy: 0.7913\n",
            "5/5 [==============================] - 0s 2ms/step - loss: 0.4661 - accuracy: 0.7403\n",
            "5/5 [==============================] - 0s 3ms/step - loss: 0.4776 - accuracy: 0.7792\n"
          ]
        }
      ]
    },
    {
      "cell_type": "markdown",
      "metadata": {
        "id": "ReFxr3GoEGPD"
      },
      "source": [
        "# Using L1 Regularizer "
      ]
    },
    {
      "cell_type": "code",
      "metadata": {
        "id": "5wUH-tIcHXb4"
      },
      "source": [
        "def get_tf_nn(features):\n",
        "  i = Input((features, ))\n",
        "  x = Dense(256,kernel_regularizer=tf.keras.regularizers.L1(l1=1e-5), activation='relu')(i)\n",
        "  x = Dense(512,kernel_regularizer=tf.keras.regularizers.L1(l1=1e-5), activation='relu')(x)\n",
        "  o = Dense(1,kernel_regularizer=tf.keras.regularizers.L1(l1=1e-5), activation='sigmoid')(x)\n",
        "\n",
        "  model = Model(inputs=i, outputs=o)\n",
        "  model.compile(loss='binary_crossentropy', optimizer=tf.keras.optimizers.Adam(learning_rate=1e-4), metrics=['accuracy'])\n",
        "\n",
        "  return model"
      ],
      "execution_count": null,
      "outputs": []
    },
    {
      "cell_type": "code",
      "metadata": {
        "id": "xBx60uoxH7e_"
      },
      "source": [
        "nn = get_tf_nn(train_X.shape[1])"
      ],
      "execution_count": null,
      "outputs": []
    },
    {
      "cell_type": "code",
      "metadata": {
        "colab": {
          "base_uri": "https://localhost:8080/"
        },
        "id": "2U8QKTmjH7fA",
        "outputId": "a2e4099a-bc75-469c-dc54-a9aa51b2775b"
      },
      "source": [
        "print(nn.summary())"
      ],
      "execution_count": null,
      "outputs": [
        {
          "output_type": "stream",
          "name": "stdout",
          "text": [
            "Model: \"model_129\"\n",
            "_________________________________________________________________\n",
            "Layer (type)                 Output Shape              Param #   \n",
            "=================================================================\n",
            "input_130 (InputLayer)       [(None, 8)]               0         \n",
            "_________________________________________________________________\n",
            "dense_387 (Dense)            (None, 256)               2304      \n",
            "_________________________________________________________________\n",
            "dense_388 (Dense)            (None, 512)               131584    \n",
            "_________________________________________________________________\n",
            "dense_389 (Dense)            (None, 1)                 513       \n",
            "=================================================================\n",
            "Total params: 134,401\n",
            "Trainable params: 134,401\n",
            "Non-trainable params: 0\n",
            "_________________________________________________________________\n",
            "None\n"
          ]
        }
      ]
    },
    {
      "cell_type": "code",
      "metadata": {
        "colab": {
          "base_uri": "https://localhost:8080/"
        },
        "id": "dlJWMCQDH7fB",
        "outputId": "cd90a064-e959-4d9b-99a6-f1b765bb0095"
      },
      "source": [
        "h = nn.fit(train_X, train_y, validation_data=(validation_X, validation_y), epochs=15, batch_size=16)"
      ],
      "execution_count": null,
      "outputs": [
        {
          "output_type": "stream",
          "name": "stdout",
          "text": [
            "Epoch 1/15\n",
            "29/29 [==============================] - 1s 10ms/step - loss: 0.7160 - accuracy: 0.6783 - val_loss: 0.6687 - val_accuracy: 0.7338\n",
            "Epoch 2/15\n",
            "29/29 [==============================] - 0s 4ms/step - loss: 0.6444 - accuracy: 0.7739 - val_loss: 0.6206 - val_accuracy: 0.7338\n",
            "Epoch 3/15\n",
            "29/29 [==============================] - 0s 4ms/step - loss: 0.5964 - accuracy: 0.7696 - val_loss: 0.5899 - val_accuracy: 0.7403\n",
            "Epoch 4/15\n",
            "29/29 [==============================] - 0s 4ms/step - loss: 0.5638 - accuracy: 0.7783 - val_loss: 0.5679 - val_accuracy: 0.7468\n",
            "Epoch 5/15\n",
            "29/29 [==============================] - 0s 4ms/step - loss: 0.5409 - accuracy: 0.7870 - val_loss: 0.5566 - val_accuracy: 0.7468\n",
            "Epoch 6/15\n",
            "29/29 [==============================] - 0s 5ms/step - loss: 0.5255 - accuracy: 0.7870 - val_loss: 0.5499 - val_accuracy: 0.7532\n",
            "Epoch 7/15\n",
            "29/29 [==============================] - 0s 4ms/step - loss: 0.5149 - accuracy: 0.7978 - val_loss: 0.5435 - val_accuracy: 0.7532\n",
            "Epoch 8/15\n",
            "29/29 [==============================] - 0s 4ms/step - loss: 0.5077 - accuracy: 0.8022 - val_loss: 0.5411 - val_accuracy: 0.7532\n",
            "Epoch 9/15\n",
            "29/29 [==============================] - 0s 4ms/step - loss: 0.5016 - accuracy: 0.8022 - val_loss: 0.5401 - val_accuracy: 0.7597\n",
            "Epoch 10/15\n",
            "29/29 [==============================] - 0s 4ms/step - loss: 0.4974 - accuracy: 0.8065 - val_loss: 0.5421 - val_accuracy: 0.7597\n",
            "Epoch 11/15\n",
            "29/29 [==============================] - 0s 4ms/step - loss: 0.4917 - accuracy: 0.8152 - val_loss: 0.5382 - val_accuracy: 0.7597\n",
            "Epoch 12/15\n",
            "29/29 [==============================] - 0s 4ms/step - loss: 0.4890 - accuracy: 0.8109 - val_loss: 0.5415 - val_accuracy: 0.7597\n",
            "Epoch 13/15\n",
            "29/29 [==============================] - 0s 4ms/step - loss: 0.4853 - accuracy: 0.8152 - val_loss: 0.5381 - val_accuracy: 0.7468\n",
            "Epoch 14/15\n",
            "29/29 [==============================] - 0s 4ms/step - loss: 0.4814 - accuracy: 0.8130 - val_loss: 0.5380 - val_accuracy: 0.7597\n",
            "Epoch 15/15\n",
            "29/29 [==============================] - 0s 4ms/step - loss: 0.4778 - accuracy: 0.8217 - val_loss: 0.5391 - val_accuracy: 0.7597\n"
          ]
        }
      ]
    },
    {
      "cell_type": "code",
      "metadata": {
        "colab": {
          "base_uri": "https://localhost:8080/",
          "height": 281
        },
        "id": "DWorA1e9H7fB",
        "outputId": "abe18be3-e476-4918-b4dc-cc450c657659"
      },
      "source": [
        "plt.plot(h.history['loss'], label='Loss')\n",
        "plt.plot(h.history['val_loss'], label='Validation Loss')\n",
        "plt.title('BCE Loss')\n",
        "plt.legend()\n",
        "plt.show()"
      ],
      "execution_count": null,
      "outputs": [
        {
          "output_type": "display_data",
          "data": {
            "image/png": "[encoded data removed]",
            "text/plain": [
              "<Figure size 432x288 with 1 Axes>"
            ]
          },
          "metadata": {
            "needs_background": "light"
          }
        }
      ]
    },
    {
      "cell_type": "code",
      "metadata": {
        "colab": {
          "base_uri": "https://localhost:8080/",
          "height": 281
        },
        "id": "LMWiKVd5H7fB",
        "outputId": "a0b56c3f-575b-4679-e1fc-8805fabff5bc"
      },
      "source": [
        "plt.plot(h.history['accuracy'], label='Accuracy')\n",
        "plt.plot(h.history['val_accuracy'], label='Validation Accuracy')\n",
        "plt.title('Accuracy')\n",
        "plt.legend()\n",
        "plt.show()"
      ],
      "execution_count": null,
      "outputs": [
        {
          "output_type": "display_data",
          "data": {
            "image/png": "[encoded data removed]",
            "text/plain": [
              "<Figure size 432x288 with 1 Axes>"
            ]
          },
          "metadata": {
            "needs_background": "light"
          }
        }
      ]
    },
    {
      "cell_type": "code",
      "metadata": {
        "colab": {
          "base_uri": "https://localhost:8080/"
        },
        "id": "9448YMpkH7fB",
        "outputId": "55866c41-09af-41dd-afdc-6e5fd78ca6a6"
      },
      "source": [
        "train_pred = nn.evaluate(train_X, train_y)\n",
        "val_pred = nn.evaluate(validation_X, validation_y)\n",
        "test_pred = nn.evaluate(test_X, test_Y)"
      ],
      "execution_count": null,
      "outputs": [
        {
          "output_type": "stream",
          "name": "stdout",
          "text": [
            "15/15 [==============================] - 0s 2ms/step - loss: 0.4235 - accuracy: 0.8152\n",
            "5/5 [==============================] - 0s 3ms/step - loss: 0.4828 - accuracy: 0.7532\n",
            "5/5 [==============================] - 0s 4ms/step - loss: 0.4753 - accuracy: 0.7468\n"
          ]
        }
      ]
    },
    {
      "cell_type": "markdown",
      "metadata": {
        "id": "6s4doFZeEOw2"
      },
      "source": [
        "#Using L2 Regularizer"
      ]
    },
    {
      "cell_type": "code",
      "metadata": {
        "id": "5fELONtNILyZ"
      },
      "source": [
        "def get_tf_nn(features):\n",
        "  i = Input((features, ))\n",
        "  x = Dense(256,kernel_regularizer=tf.keras.regularizers.L2(l2=1e-5), activation='relu')(i)\n",
        "  x = Dense(512,kernel_regularizer=tf.keras.regularizers.L2(l2=1e-5), activation='relu')(x)\n",
        "  o = Dense(1,kernel_regularizer=tf.keras.regularizers.L2(l2=1e-5), activation='sigmoid')(x)\n",
        "\n",
        "  model = Model(inputs=i, outputs=o)\n",
        "  model.compile(loss='binary_crossentropy', optimizer=tf.keras.optimizers.Adam(learning_rate=1e-4), metrics=['accuracy'])\n",
        "\n",
        "  return model"
      ],
      "execution_count": null,
      "outputs": []
    },
    {
      "cell_type": "code",
      "metadata": {
        "id": "pyvoDbThILyZ"
      },
      "source": [
        "nn = get_tf_nn(train_X.shape[1])"
      ],
      "execution_count": null,
      "outputs": []
    },
    {
      "cell_type": "code",
      "metadata": {
        "colab": {
          "base_uri": "https://localhost:8080/"
        },
        "id": "eSLK8wpwILya",
        "outputId": "0416e5f6-c4ae-4983-8f1a-ef64337ba190"
      },
      "source": [
        "print(nn.summary())"
      ],
      "execution_count": null,
      "outputs": [
        {
          "output_type": "stream",
          "name": "stdout",
          "text": [
            "Model: \"model_140\"\n",
            "_________________________________________________________________\n",
            "Layer (type)                 Output Shape              Param #   \n",
            "=================================================================\n",
            "input_141 (InputLayer)       [(None, 8)]               0         \n",
            "_________________________________________________________________\n",
            "dense_420 (Dense)            (None, 256)               2304      \n",
            "_________________________________________________________________\n",
            "dense_421 (Dense)            (None, 512)               131584    \n",
            "_________________________________________________________________\n",
            "dense_422 (Dense)            (None, 1)                 513       \n",
            "=================================================================\n",
            "Total params: 134,401\n",
            "Trainable params: 134,401\n",
            "Non-trainable params: 0\n",
            "_________________________________________________________________\n",
            "None\n"
          ]
        }
      ]
    },
    {
      "cell_type": "code",
      "metadata": {
        "colab": {
          "base_uri": "https://localhost:8080/"
        },
        "id": "e4HdYrjIILya",
        "outputId": "d6fb8aea-9534-4175-c256-91bd6866fa8b"
      },
      "source": [
        "h = nn.fit(train_X, train_y, validation_data=(validation_X, validation_y), epochs=15, batch_size=16)"
      ],
      "execution_count": null,
      "outputs": [
        {
          "output_type": "stream",
          "name": "stdout",
          "text": [
            "Epoch 1/15\n",
            "29/29 [==============================] - 1s 9ms/step - loss: 0.6567 - accuracy: 0.6587 - val_loss: 0.6174 - val_accuracy: 0.6688\n",
            "Epoch 2/15\n",
            "29/29 [==============================] - 0s 4ms/step - loss: 0.5864 - accuracy: 0.7326 - val_loss: 0.5689 - val_accuracy: 0.7143\n",
            "Epoch 3/15\n",
            "29/29 [==============================] - 0s 4ms/step - loss: 0.5418 - accuracy: 0.7674 - val_loss: 0.5391 - val_accuracy: 0.7403\n",
            "Epoch 4/15\n",
            "29/29 [==============================] - 0s 5ms/step - loss: 0.5121 - accuracy: 0.7761 - val_loss: 0.5174 - val_accuracy: 0.7662\n",
            "Epoch 5/15\n",
            "29/29 [==============================] - 0s 4ms/step - loss: 0.4911 - accuracy: 0.7848 - val_loss: 0.5046 - val_accuracy: 0.7532\n",
            "Epoch 6/15\n",
            "29/29 [==============================] - 0s 5ms/step - loss: 0.4763 - accuracy: 0.7870 - val_loss: 0.4963 - val_accuracy: 0.7468\n",
            "Epoch 7/15\n",
            "29/29 [==============================] - 0s 4ms/step - loss: 0.4658 - accuracy: 0.7870 - val_loss: 0.4888 - val_accuracy: 0.7532\n",
            "Epoch 8/15\n",
            "29/29 [==============================] - 0s 4ms/step - loss: 0.4587 - accuracy: 0.7913 - val_loss: 0.4854 - val_accuracy: 0.7597\n",
            "Epoch 9/15\n",
            "29/29 [==============================] - 0s 4ms/step - loss: 0.4520 - accuracy: 0.8000 - val_loss: 0.4834 - val_accuracy: 0.7597\n",
            "Epoch 10/15\n",
            "29/29 [==============================] - 0s 4ms/step - loss: 0.4478 - accuracy: 0.7935 - val_loss: 0.4849 - val_accuracy: 0.7532\n",
            "Epoch 11/15\n",
            "29/29 [==============================] - 0s 4ms/step - loss: 0.4415 - accuracy: 0.7957 - val_loss: 0.4808 - val_accuracy: 0.7532\n",
            "Epoch 12/15\n",
            "29/29 [==============================] - 0s 4ms/step - loss: 0.4386 - accuracy: 0.8022 - val_loss: 0.4834 - val_accuracy: 0.7532\n",
            "Epoch 13/15\n",
            "29/29 [==============================] - 0s 4ms/step - loss: 0.4349 - accuracy: 0.8087 - val_loss: 0.4808 - val_accuracy: 0.7597\n",
            "Epoch 14/15\n",
            "29/29 [==============================] - 0s 4ms/step - loss: 0.4305 - accuracy: 0.8022 - val_loss: 0.4807 - val_accuracy: 0.7597\n",
            "Epoch 15/15\n",
            "29/29 [==============================] - 0s 4ms/step - loss: 0.4273 - accuracy: 0.8065 - val_loss: 0.4815 - val_accuracy: 0.7532\n"
          ]
        }
      ]
    },
    {
      "cell_type": "code",
      "metadata": {
        "colab": {
          "base_uri": "https://localhost:8080/",
          "height": 281
        },
        "id": "x2u77NxiILya",
        "outputId": "61e786e4-ec08-46cb-ffa0-e9b18eb58a08"
      },
      "source": [
        "plt.plot(h.history['loss'], label='Loss')\n",
        "plt.plot(h.history['val_loss'], label='Validation Loss')\n",
        "plt.title('BCE Loss')\n",
        "plt.legend()\n",
        "plt.show()"
      ],
      "execution_count": null,
      "outputs": [
        {
          "output_type": "display_data",
          "data": {
            "image/png": "[encoded data removed]",
            "text/plain": [
              "<Figure size 432x288 with 1 Axes>"
            ]
          },
          "metadata": {
            "needs_background": "light"
          }
        }
      ]
    },
    {
      "cell_type": "code",
      "metadata": {
        "colab": {
          "base_uri": "https://localhost:8080/",
          "height": 281
        },
        "id": "gCUbyOeyILya",
        "outputId": "196266af-4df3-4c7f-f6c5-22b083595b7e"
      },
      "source": [
        "plt.plot(h.history['accuracy'], label='Accuracy')\n",
        "plt.plot(h.history['val_accuracy'], label='Validation Accuracy')\n",
        "plt.title('Accuracy')\n",
        "plt.legend()\n",
        "plt.show()"
      ],
      "execution_count": null,
      "outputs": [
        {
          "output_type": "display_data",
          "data": {
            "image/png": "[encoded data removed]",
            "text/plain": [
              "<Figure size 432x288 with 1 Axes>"
            ]
          },
          "metadata": {
            "needs_background": "light"
          }
        }
      ]
    },
    {
      "cell_type": "code",
      "metadata": {
        "colab": {
          "base_uri": "https://localhost:8080/"
        },
        "id": "tfyDfzxyILyb",
        "outputId": "97ac1e66-b2e2-4a44-a5ad-6290f727536f"
      },
      "source": [
        "train_pred = nn.evaluate(train_X, train_y)\n",
        "test_pred = nn.evaluate(test_X, test_Y)\n",
        "val_pred = nn.evaluate(validation_X, validation_y)"
      ],
      "execution_count": null,
      "outputs": [
        {
          "output_type": "stream",
          "name": "stdout",
          "text": [
            "15/15 [==============================] - 0s 2ms/step - loss: 0.4228 - accuracy: 0.8043\n",
            "5/5 [==============================] - 0s 3ms/step - loss: 0.4732 - accuracy: 0.7597\n",
            "5/5 [==============================] - 0s 3ms/step - loss: 0.4815 - accuracy: 0.7532\n"
          ]
        }
      ]
    }
  ]
}